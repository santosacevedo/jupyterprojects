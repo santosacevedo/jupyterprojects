{
 "cells": [
  {
   "cell_type": "code",
   "execution_count": null,
   "id": "funny-detective",
   "metadata": {},
   "outputs": [],
   "source": [
    "import numpy as np\n",
    "import matplotlib.pyplot as plt\n",
    "import math\n",
    "import random\n",
    "nc=0\n",
    "ns=0\n",
    "n=input('Cuantos elementos: ')\n",
    "with plt.xkcd():\n",
    "    for _ in range(int(n)):\n",
    "        x=random.uniform(-1,1)\n",
    "        y=random.uniform(-1,1)\n",
    "        dis= math.sqrt(x**2+y**2)\n",
    "        if dis<=1:\n",
    "            plt.scatter(x,y,color='r')\n",
    "            nc=nc+1\n",
    "        else:\n",
    "            plt.scatter(x,y,color='b')\n",
    "plt.axhline(0,color='black')\n",
    "plt.axvline(0,color='black')\n",
    "plt.xlim(-1,1)\n",
    "plt.ylim(-1,1)\n",
    "plt.show()        \n",
    "print((4*nc)/int(n))\n",
    "    \n"
   ]
  },
  {
   "cell_type": "code",
   "execution_count": null,
   "id": "nasty-homework",
   "metadata": {},
   "outputs": [],
   "source": []
  }
 ],
 "metadata": {
  "kernelspec": {
   "display_name": "Python 3",
   "language": "python",
   "name": "python3"
  },
  "language_info": {
   "codemirror_mode": {
    "name": "ipython",
    "version": 3
   },
   "file_extension": ".py",
   "mimetype": "text/x-python",
   "name": "python",
   "nbconvert_exporter": "python",
   "pygments_lexer": "ipython3",
   "version": "3.9.1"
  }
 },
 "nbformat": 4,
 "nbformat_minor": 5
}
